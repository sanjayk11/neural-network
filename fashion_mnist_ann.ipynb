{
  "nbformat": 4,
  "nbformat_minor": 0,
  "metadata": {
    "colab": {
      "name": "fashion_mnist-ann.ipynb",
      "provenance": [],
      "authorship_tag": "ABX9TyOfe50T00d+DkBWV4I2gzqe",
      "include_colab_link": true
    },
    "kernelspec": {
      "name": "python3",
      "display_name": "Python 3"
    }
  },
  "cells": [
    {
      "cell_type": "markdown",
      "metadata": {
        "id": "view-in-github",
        "colab_type": "text"
      },
      "source": [
        "<a href=\"https://colab.research.google.com/github/sanjayk11/neural-network/blob/main/fashion_mnist_ann.ipynb\" target=\"_parent\"><img src=\"https://colab.research.google.com/assets/colab-badge.svg\" alt=\"Open In Colab\"/></a>"
      ]
    },
    {
      "cell_type": "code",
      "metadata": {
        "id": "IeGaTW7VMHy3"
      },
      "source": [
        "import numpy as np\n",
        "import tensorflow as tf\n",
        "import matplotlib.pyplot as plt\n",
        "%matplotlib inline"
      ],
      "execution_count": 10,
      "outputs": []
    },
    {
      "cell_type": "code",
      "metadata": {
        "id": "g6B2nam5Neag"
      },
      "source": [
        "fashion = tf.keras.datasets.fashion_mnist"
      ],
      "execution_count": 2,
      "outputs": []
    },
    {
      "cell_type": "code",
      "metadata": {
        "colab": {
          "base_uri": "https://localhost:8080/"
        },
        "id": "7AbxHyVHNkKw",
        "outputId": "47fadaa0-c64d-4d32-b6d0-d713cffc3b05"
      },
      "source": [
        "(train_images,train_labels),(test_images,test_labels) = fashion.load_data()"
      ],
      "execution_count": 3,
      "outputs": [
        {
          "output_type": "stream",
          "text": [
            "Downloading data from https://storage.googleapis.com/tensorflow/tf-keras-datasets/train-labels-idx1-ubyte.gz\n",
            "32768/29515 [=================================] - 0s 0us/step\n",
            "Downloading data from https://storage.googleapis.com/tensorflow/tf-keras-datasets/train-images-idx3-ubyte.gz\n",
            "26427392/26421880 [==============================] - 0s 0us/step\n",
            "Downloading data from https://storage.googleapis.com/tensorflow/tf-keras-datasets/t10k-labels-idx1-ubyte.gz\n",
            "8192/5148 [===============================================] - 0s 0us/step\n",
            "Downloading data from https://storage.googleapis.com/tensorflow/tf-keras-datasets/t10k-images-idx3-ubyte.gz\n",
            "4423680/4422102 [==============================] - 0s 0us/step\n"
          ],
          "name": "stdout"
        }
      ]
    },
    {
      "cell_type": "code",
      "metadata": {
        "colab": {
          "base_uri": "https://localhost:8080/"
        },
        "id": "W9qkWgioN0CP",
        "outputId": "bf4f8e84-d8e8-4adc-d359-abbc930bdcb2"
      },
      "source": [
        "train_images.shape"
      ],
      "execution_count": 5,
      "outputs": [
        {
          "output_type": "execute_result",
          "data": {
            "text/plain": [
              "(60000, 28, 28)"
            ]
          },
          "metadata": {
            "tags": []
          },
          "execution_count": 5
        }
      ]
    },
    {
      "cell_type": "code",
      "metadata": {
        "colab": {
          "base_uri": "https://localhost:8080/"
        },
        "id": "Y9SNFqDIOBF0",
        "outputId": "fde4cd88-8bce-40bd-9bfe-7d52943f2b0c"
      },
      "source": [
        "test_images.shape"
      ],
      "execution_count": 6,
      "outputs": [
        {
          "output_type": "execute_result",
          "data": {
            "text/plain": [
              "(10000, 28, 28)"
            ]
          },
          "metadata": {
            "tags": []
          },
          "execution_count": 6
        }
      ]
    },
    {
      "cell_type": "code",
      "metadata": {
        "id": "He6xTIzPOmO9"
      },
      "source": [
        "labels =  ['T-shirt/top', 'Trouser', 'Pullover', 'Dress', 'Coat',\n",
        "               'Sandal', 'Shirt', 'Sneaker', 'Bag', 'Ankle boot']"
      ],
      "execution_count": 14,
      "outputs": []
    },
    {
      "cell_type": "code",
      "metadata": {
        "colab": {
          "base_uri": "https://localhost:8080/",
          "height": 279
        },
        "id": "p3Myb1dbONfv",
        "outputId": "ac0192d8-6bd3-4180-e08d-0d28bb5a973f"
      },
      "source": [
        "plt.imshow(train_images[0])\n",
        "plt.xlabel(labels[train_labels[0]])\n",
        "plt.grid(False)"
      ],
      "execution_count": 16,
      "outputs": [
        {
          "output_type": "display_data",
          "data": {
            "image/png": "[encoded data removed]",
            "text/plain": [
              "<Figure size 432x288 with 1 Axes>"
            ]
          },
          "metadata": {
            "tags": [],
            "needs_background": "light"
          }
        }
      ]
    },
    {
      "cell_type": "code",
      "metadata": {
        "colab": {
          "base_uri": "https://localhost:8080/",
          "height": 269
        },
        "id": "ERLiCtzLPcH6",
        "outputId": "d816a17e-be33-4fba-af72-3260816171b5"
      },
      "source": [
        "for i in range(20):\n",
        "  plt.subplot(5,4,i+1)\n",
        "  plt.imshow(train_images[i])\n",
        "  plt.grid(False)\n",
        "  "
      ],
      "execution_count": 21,
      "outputs": [
        {
          "output_type": "display_data",
          "data": {
            "image/png": "[encoded data removed]",
            "text/plain": [
              "<Figure size 432x288 with 20 Axes>"
            ]
          },
          "metadata": {
            "tags": [],
            "needs_background": "light"
          }
        }
      ]
    },
    {
      "cell_type": "code",
      "metadata": {
        "id": "rnqvesK1QPwv"
      },
      "source": [
        "train_images = train_images / 255.0\n",
        "\n",
        "test_images = test_images / 255.0"
      ],
      "execution_count": 23,
      "outputs": []
    },
    {
      "cell_type": "code",
      "metadata": {
        "id": "HrrQjLpmQa99"
      },
      "source": [
        "model = tf.keras.models.Sequential()"
      ],
      "execution_count": 24,
      "outputs": []
    },
    {
      "cell_type": "code",
      "metadata": {
        "id": "0mLoBuZUQh9U"
      },
      "source": [
        "model.add(tf.keras.layers.Flatten(input_shape=(28,28)))\n",
        "model.add(tf.keras.layers.Dense(128,activation='relu'))\n",
        "model.add(tf.keras.layers.Dense(10))\n"
      ],
      "execution_count": 25,
      "outputs": []
    },
    {
      "cell_type": "code",
      "metadata": {
        "id": "7lG2NBklRvRM"
      },
      "source": [
        "model.compile(optimizer='adam',\n",
        "              loss=tf.keras.losses.SparseCategoricalCrossentropy(from_logits=True),\n",
        "              metrics=['accuracy'])"
      ],
      "execution_count": 26,
      "outputs": []
    },
    {
      "cell_type": "code",
      "metadata": {
        "colab": {
          "base_uri": "https://localhost:8080/"
        },
        "id": "MSOFdoIkRdxQ",
        "outputId": "1ff284b6-3c4e-43fa-9e4b-97ed261f0291"
      },
      "source": [
        "model.fit(test_images,test_labels,epochs=100,batch_size=32)"
      ],
      "execution_count": 29,
      "outputs": [
        {
          "output_type": "stream",
          "text": [
            "Epoch 1/100\n",
            "313/313 [==============================] - 1s 3ms/step - loss: 2.1636 - accuracy: 0.2894\n",
            "Epoch 2/100\n",
            "313/313 [==============================] - 1s 3ms/step - loss: 1.3690 - accuracy: 0.5739\n",
            "Epoch 3/100\n",
            "313/313 [==============================] - 1s 2ms/step - loss: 1.0681 - accuracy: 0.6476\n",
            "Epoch 4/100\n",
            "313/313 [==============================] - 1s 2ms/step - loss: 0.9003 - accuracy: 0.6966\n",
            "Epoch 5/100\n",
            "313/313 [==============================] - 1s 2ms/step - loss: 0.8204 - accuracy: 0.7196\n",
            "Epoch 6/100\n",
            "313/313 [==============================] - 1s 2ms/step - loss: 0.7548 - accuracy: 0.7404\n",
            "Epoch 7/100\n",
            "313/313 [==============================] - 1s 2ms/step - loss: 0.7177 - accuracy: 0.7376\n",
            "Epoch 8/100\n",
            "313/313 [==============================] - 1s 2ms/step - loss: 0.6994 - accuracy: 0.7494\n",
            "Epoch 9/100\n",
            "313/313 [==============================] - 1s 2ms/step - loss: 0.6783 - accuracy: 0.7543\n",
            "Epoch 10/100\n",
            "313/313 [==============================] - 1s 2ms/step - loss: 0.6420 - accuracy: 0.7727\n",
            "Epoch 11/100\n",
            "313/313 [==============================] - 1s 2ms/step - loss: 0.6382 - accuracy: 0.7716\n",
            "Epoch 12/100\n",
            "313/313 [==============================] - 1s 2ms/step - loss: 0.6247 - accuracy: 0.7730\n",
            "Epoch 13/100\n",
            "313/313 [==============================] - 1s 2ms/step - loss: 0.6073 - accuracy: 0.7799\n",
            "Epoch 14/100\n",
            "313/313 [==============================] - 1s 2ms/step - loss: 0.6004 - accuracy: 0.7806\n",
            "Epoch 15/100\n",
            "313/313 [==============================] - 1s 2ms/step - loss: 0.6041 - accuracy: 0.7813\n",
            "Epoch 16/100\n",
            "313/313 [==============================] - 1s 2ms/step - loss: 0.5870 - accuracy: 0.7881\n",
            "Epoch 17/100\n",
            "313/313 [==============================] - 1s 2ms/step - loss: 0.5674 - accuracy: 0.7930\n",
            "Epoch 18/100\n",
            "313/313 [==============================] - 1s 2ms/step - loss: 0.5657 - accuracy: 0.7972\n",
            "Epoch 19/100\n",
            "313/313 [==============================] - 1s 2ms/step - loss: 0.5541 - accuracy: 0.7970\n",
            "Epoch 20/100\n",
            "313/313 [==============================] - 1s 2ms/step - loss: 0.5498 - accuracy: 0.7988\n",
            "Epoch 21/100\n",
            "313/313 [==============================] - 1s 2ms/step - loss: 0.5402 - accuracy: 0.8031\n",
            "Epoch 22/100\n",
            "313/313 [==============================] - 1s 2ms/step - loss: 0.5430 - accuracy: 0.7991\n",
            "Epoch 23/100\n",
            "313/313 [==============================] - 1s 2ms/step - loss: 0.5354 - accuracy: 0.8044\n",
            "Epoch 24/100\n",
            "313/313 [==============================] - 1s 3ms/step - loss: 0.5378 - accuracy: 0.8020\n",
            "Epoch 25/100\n",
            "313/313 [==============================] - 1s 3ms/step - loss: 0.5231 - accuracy: 0.8054\n",
            "Epoch 26/100\n",
            "313/313 [==============================] - 1s 2ms/step - loss: 0.5277 - accuracy: 0.8110\n",
            "Epoch 27/100\n",
            "313/313 [==============================] - 1s 2ms/step - loss: 0.5143 - accuracy: 0.8133\n",
            "Epoch 28/100\n",
            "313/313 [==============================] - 1s 3ms/step - loss: 0.5139 - accuracy: 0.8122\n",
            "Epoch 29/100\n",
            "313/313 [==============================] - 1s 2ms/step - loss: 0.4967 - accuracy: 0.8175\n",
            "Epoch 30/100\n",
            "313/313 [==============================] - 1s 3ms/step - loss: 0.4918 - accuracy: 0.8217\n",
            "Epoch 31/100\n",
            "313/313 [==============================] - 1s 2ms/step - loss: 0.4996 - accuracy: 0.8177\n",
            "Epoch 32/100\n",
            "313/313 [==============================] - 1s 2ms/step - loss: 0.4967 - accuracy: 0.8219\n",
            "Epoch 33/100\n",
            "313/313 [==============================] - 1s 2ms/step - loss: 0.4817 - accuracy: 0.8253\n",
            "Epoch 34/100\n",
            "313/313 [==============================] - 1s 2ms/step - loss: 0.4917 - accuracy: 0.8175\n",
            "Epoch 35/100\n",
            "313/313 [==============================] - 1s 2ms/step - loss: 0.4859 - accuracy: 0.8260\n",
            "Epoch 36/100\n",
            "313/313 [==============================] - 1s 2ms/step - loss: 0.4861 - accuracy: 0.8258\n",
            "Epoch 37/100\n",
            "313/313 [==============================] - 1s 3ms/step - loss: 0.4768 - accuracy: 0.8252\n",
            "Epoch 38/100\n",
            "313/313 [==============================] - 1s 2ms/step - loss: 0.4653 - accuracy: 0.8305\n",
            "Epoch 39/100\n",
            "313/313 [==============================] - 1s 3ms/step - loss: 0.4606 - accuracy: 0.8370\n",
            "Epoch 40/100\n",
            "313/313 [==============================] - 1s 2ms/step - loss: 0.4810 - accuracy: 0.8232\n",
            "Epoch 41/100\n",
            "313/313 [==============================] - 1s 3ms/step - loss: 0.4693 - accuracy: 0.8269\n",
            "Epoch 42/100\n",
            "313/313 [==============================] - 1s 3ms/step - loss: 0.4725 - accuracy: 0.8338\n",
            "Epoch 43/100\n",
            "313/313 [==============================] - 1s 3ms/step - loss: 0.4638 - accuracy: 0.8283\n",
            "Epoch 44/100\n",
            "313/313 [==============================] - 1s 3ms/step - loss: 0.4606 - accuracy: 0.8302\n",
            "Epoch 45/100\n",
            "313/313 [==============================] - 1s 3ms/step - loss: 0.4652 - accuracy: 0.8314\n",
            "Epoch 46/100\n",
            "313/313 [==============================] - 1s 3ms/step - loss: 0.4455 - accuracy: 0.8418\n",
            "Epoch 47/100\n",
            "313/313 [==============================] - 1s 3ms/step - loss: 0.4587 - accuracy: 0.8340\n",
            "Epoch 48/100\n",
            "313/313 [==============================] - 1s 3ms/step - loss: 0.4387 - accuracy: 0.8426\n",
            "Epoch 49/100\n",
            "313/313 [==============================] - 1s 3ms/step - loss: 0.4621 - accuracy: 0.8311\n",
            "Epoch 50/100\n",
            "313/313 [==============================] - 1s 3ms/step - loss: 0.4361 - accuracy: 0.8479\n",
            "Epoch 51/100\n",
            "313/313 [==============================] - 1s 3ms/step - loss: 0.4406 - accuracy: 0.8410\n",
            "Epoch 52/100\n",
            "313/313 [==============================] - 1s 3ms/step - loss: 0.4502 - accuracy: 0.8388\n",
            "Epoch 53/100\n",
            "313/313 [==============================] - 1s 3ms/step - loss: 0.4362 - accuracy: 0.8453\n",
            "Epoch 54/100\n",
            "313/313 [==============================] - 1s 3ms/step - loss: 0.4427 - accuracy: 0.8437\n",
            "Epoch 55/100\n",
            "313/313 [==============================] - 1s 3ms/step - loss: 0.4326 - accuracy: 0.8468\n",
            "Epoch 56/100\n",
            "313/313 [==============================] - 1s 3ms/step - loss: 0.4386 - accuracy: 0.8420\n",
            "Epoch 57/100\n",
            "313/313 [==============================] - 1s 3ms/step - loss: 0.4328 - accuracy: 0.8458\n",
            "Epoch 58/100\n",
            "313/313 [==============================] - 1s 3ms/step - loss: 0.4534 - accuracy: 0.8392\n",
            "Epoch 59/100\n",
            "313/313 [==============================] - 1s 3ms/step - loss: 0.4189 - accuracy: 0.8504\n",
            "Epoch 60/100\n",
            "313/313 [==============================] - 1s 3ms/step - loss: 0.4103 - accuracy: 0.8531\n",
            "Epoch 61/100\n",
            "313/313 [==============================] - 1s 3ms/step - loss: 0.4204 - accuracy: 0.8456\n",
            "Epoch 62/100\n",
            "313/313 [==============================] - 1s 3ms/step - loss: 0.4142 - accuracy: 0.8547\n",
            "Epoch 63/100\n",
            "313/313 [==============================] - 1s 3ms/step - loss: 0.4236 - accuracy: 0.8456\n",
            "Epoch 64/100\n",
            "313/313 [==============================] - 1s 3ms/step - loss: 0.4166 - accuracy: 0.8519\n",
            "Epoch 65/100\n",
            "313/313 [==============================] - 1s 3ms/step - loss: 0.4125 - accuracy: 0.8516\n",
            "Epoch 66/100\n",
            "313/313 [==============================] - 1s 2ms/step - loss: 0.4158 - accuracy: 0.8511\n",
            "Epoch 67/100\n",
            "313/313 [==============================] - 1s 2ms/step - loss: 0.4204 - accuracy: 0.8488\n",
            "Epoch 68/100\n",
            "313/313 [==============================] - 1s 3ms/step - loss: 0.4082 - accuracy: 0.8523\n",
            "Epoch 69/100\n",
            "313/313 [==============================] - 1s 3ms/step - loss: 0.3994 - accuracy: 0.8599\n",
            "Epoch 70/100\n",
            "313/313 [==============================] - 1s 3ms/step - loss: 0.4071 - accuracy: 0.8566\n",
            "Epoch 71/100\n",
            "313/313 [==============================] - 1s 3ms/step - loss: 0.3997 - accuracy: 0.8574\n",
            "Epoch 72/100\n",
            "313/313 [==============================] - 1s 3ms/step - loss: 0.4127 - accuracy: 0.8549\n",
            "Epoch 73/100\n",
            "313/313 [==============================] - 1s 3ms/step - loss: 0.4073 - accuracy: 0.8528\n",
            "Epoch 74/100\n",
            "313/313 [==============================] - 1s 3ms/step - loss: 0.4116 - accuracy: 0.8542\n",
            "Epoch 75/100\n",
            "313/313 [==============================] - 1s 2ms/step - loss: 0.4033 - accuracy: 0.8599\n",
            "Epoch 76/100\n",
            "313/313 [==============================] - 1s 2ms/step - loss: 0.4034 - accuracy: 0.8552\n",
            "Epoch 77/100\n",
            "313/313 [==============================] - 1s 3ms/step - loss: 0.3907 - accuracy: 0.8602\n",
            "Epoch 78/100\n",
            "313/313 [==============================] - 1s 2ms/step - loss: 0.3988 - accuracy: 0.8594\n",
            "Epoch 79/100\n",
            "313/313 [==============================] - 1s 2ms/step - loss: 0.4047 - accuracy: 0.8559\n",
            "Epoch 80/100\n",
            "313/313 [==============================] - 1s 2ms/step - loss: 0.3912 - accuracy: 0.8599\n",
            "Epoch 81/100\n",
            "313/313 [==============================] - 1s 2ms/step - loss: 0.4044 - accuracy: 0.8573\n",
            "Epoch 82/100\n",
            "313/313 [==============================] - 1s 2ms/step - loss: 0.4034 - accuracy: 0.8524\n",
            "Epoch 83/100\n",
            "313/313 [==============================] - 1s 3ms/step - loss: 0.4029 - accuracy: 0.8592\n",
            "Epoch 84/100\n",
            "313/313 [==============================] - 1s 2ms/step - loss: 0.3969 - accuracy: 0.8536\n",
            "Epoch 85/100\n",
            "313/313 [==============================] - 1s 2ms/step - loss: 0.3976 - accuracy: 0.8612\n",
            "Epoch 86/100\n",
            "313/313 [==============================] - 1s 2ms/step - loss: 0.3974 - accuracy: 0.8599\n",
            "Epoch 87/100\n",
            "313/313 [==============================] - 1s 2ms/step - loss: 0.3904 - accuracy: 0.8610\n",
            "Epoch 88/100\n",
            "313/313 [==============================] - 1s 3ms/step - loss: 0.4018 - accuracy: 0.8537\n",
            "Epoch 89/100\n",
            "313/313 [==============================] - 1s 3ms/step - loss: 0.3911 - accuracy: 0.8567\n",
            "Epoch 90/100\n",
            "313/313 [==============================] - 1s 2ms/step - loss: 0.3865 - accuracy: 0.8652\n",
            "Epoch 91/100\n",
            "313/313 [==============================] - 1s 3ms/step - loss: 0.3818 - accuracy: 0.8615\n",
            "Epoch 92/100\n",
            "313/313 [==============================] - 1s 3ms/step - loss: 0.3966 - accuracy: 0.8567\n",
            "Epoch 93/100\n",
            "313/313 [==============================] - 1s 3ms/step - loss: 0.3911 - accuracy: 0.8579\n",
            "Epoch 94/100\n",
            "313/313 [==============================] - 1s 2ms/step - loss: 0.3913 - accuracy: 0.8650\n",
            "Epoch 95/100\n",
            "313/313 [==============================] - 1s 2ms/step - loss: 0.3817 - accuracy: 0.8637\n",
            "Epoch 96/100\n",
            "313/313 [==============================] - 1s 2ms/step - loss: 0.3779 - accuracy: 0.8644\n",
            "Epoch 97/100\n",
            "313/313 [==============================] - 1s 2ms/step - loss: 0.3750 - accuracy: 0.8694\n",
            "Epoch 98/100\n",
            "313/313 [==============================] - 1s 3ms/step - loss: 0.3770 - accuracy: 0.8655\n",
            "Epoch 99/100\n",
            "313/313 [==============================] - 1s 2ms/step - loss: 0.3914 - accuracy: 0.8597\n",
            "Epoch 100/100\n",
            "313/313 [==============================] - 1s 2ms/step - loss: 0.3821 - accuracy: 0.8600\n"
          ],
          "name": "stdout"
        },
        {
          "output_type": "execute_result",
          "data": {
            "text/plain": [
              "<tensorflow.python.keras.callbacks.History at 0x7ff953d10c18>"
            ]
          },
          "metadata": {
            "tags": []
          },
          "execution_count": 29
        }
      ]
    },
    {
      "cell_type": "code",
      "metadata": {
        "colab": {
          "base_uri": "https://localhost:8080/"
        },
        "id": "BP0h6oyTStdO",
        "outputId": "984ce642-b14f-4648-d4c4-e8eafb324db2"
      },
      "source": [
        "model.evaluate(test_images,test_labels)"
      ],
      "execution_count": 30,
      "outputs": [
        {
          "output_type": "stream",
          "text": [
            "313/313 [==============================] - 1s 1ms/step - loss: 0.3779 - accuracy: 0.8669\n"
          ],
          "name": "stdout"
        },
        {
          "output_type": "execute_result",
          "data": {
            "text/plain": [
              "[0.3778645098209381, 0.8669000267982483]"
            ]
          },
          "metadata": {
            "tags": []
          },
          "execution_count": 30
        }
      ]
    },
    {
      "cell_type": "code",
      "metadata": {
        "id": "o0t7Aem8S1F3"
      },
      "source": [
        "prediction = model.predict(test_images)"
      ],
      "execution_count": 31,
      "outputs": []
    },
    {
      "cell_type": "code",
      "metadata": {
        "colab": {
          "base_uri": "https://localhost:8080/"
        },
        "id": "Cvmndt95UoeG",
        "outputId": "4322db4b-9a3b-4f1b-deed-f8f4e6f0376d"
      },
      "source": [
        "prediction[0]"
      ],
      "execution_count": 32,
      "outputs": [
        {
          "output_type": "execute_result",
          "data": {
            "text/plain": [
              "array([ -8.154547  , -10.23099   ,  -7.35473   ,  -5.4693565 ,\n",
              "        -6.65385   ,   3.7476516 ,  -4.810181  ,   3.9711509 ,\n",
              "         0.04684752,   5.952886  ], dtype=float32)"
            ]
          },
          "metadata": {
            "tags": []
          },
          "execution_count": 32
        }
      ]
    },
    {
      "cell_type": "code",
      "metadata": {
        "colab": {
          "base_uri": "https://localhost:8080/"
        },
        "id": "HqDvmAExU7--",
        "outputId": "bf65b81e-073e-4b18-c1a6-44372ff3a594"
      },
      "source": [
        "np.argmax(prediction[0])"
      ],
      "execution_count": 34,
      "outputs": [
        {
          "output_type": "execute_result",
          "data": {
            "text/plain": [
              "9"
            ]
          },
          "metadata": {
            "tags": []
          },
          "execution_count": 34
        }
      ]
    },
    {
      "cell_type": "code",
      "metadata": {
        "colab": {
          "base_uri": "https://localhost:8080/"
        },
        "id": "Rij60KdTU_k4",
        "outputId": "72e552e2-01cc-4a09-acdc-24cd10caab90"
      },
      "source": [
        "test_labels[0]"
      ],
      "execution_count": 35,
      "outputs": [
        {
          "output_type": "execute_result",
          "data": {
            "text/plain": [
              "9"
            ]
          },
          "metadata": {
            "tags": []
          },
          "execution_count": 35
        }
      ]
    }
  ]
}